{
 "cells": [
  {
   "cell_type": "code",
   "execution_count": 78,
   "id": "4fcb7937",
   "metadata": {},
   "outputs": [],
   "source": [
    "import pandas as pd\n",
    "import numpy as np\n",
    "import matplotlib.pyplot as plt\n",
    "import seaborn as sns\n",
    "\n"
   ]
  },
  {
   "cell_type": "code",
   "execution_count": 79,
   "id": "857354e7",
   "metadata": {},
   "outputs": [],
   "source": [
    "df=pd.read_csv('dataset w7.csv')"
   ]
  },
  {
   "cell_type": "code",
   "execution_count": 80,
   "id": "68d7bfb0",
   "metadata": {},
   "outputs": [
    {
     "data": {
      "text/html": [
       "<div>\n",
       "<style scoped>\n",
       "    .dataframe tbody tr th:only-of-type {\n",
       "        vertical-align: middle;\n",
       "    }\n",
       "\n",
       "    .dataframe tbody tr th {\n",
       "        vertical-align: top;\n",
       "    }\n",
       "\n",
       "    .dataframe thead th {\n",
       "        text-align: right;\n",
       "    }\n",
       "</style>\n",
       "<table border=\"1\" class=\"dataframe\">\n",
       "  <thead>\n",
       "    <tr style=\"text-align: right;\">\n",
       "      <th></th>\n",
       "      <th>Gender</th>\n",
       "      <th>Test preparation</th>\n",
       "      <th>Total Marks</th>\n",
       "    </tr>\n",
       "  </thead>\n",
       "  <tbody>\n",
       "    <tr>\n",
       "      <th>0</th>\n",
       "      <td>male</td>\n",
       "      <td>none</td>\n",
       "      <td>14</td>\n",
       "    </tr>\n",
       "    <tr>\n",
       "      <th>1</th>\n",
       "      <td>female</td>\n",
       "      <td>none</td>\n",
       "      <td>28</td>\n",
       "    </tr>\n",
       "    <tr>\n",
       "      <th>2</th>\n",
       "      <td>female</td>\n",
       "      <td>none</td>\n",
       "      <td>18</td>\n",
       "    </tr>\n",
       "    <tr>\n",
       "      <th>3</th>\n",
       "      <td>female</td>\n",
       "      <td>none</td>\n",
       "      <td>48</td>\n",
       "    </tr>\n",
       "    <tr>\n",
       "      <th>4</th>\n",
       "      <td>female</td>\n",
       "      <td>none</td>\n",
       "      <td>21</td>\n",
       "    </tr>\n",
       "    <tr>\n",
       "      <th>5</th>\n",
       "      <td>female</td>\n",
       "      <td>completed</td>\n",
       "      <td>40</td>\n",
       "    </tr>\n",
       "    <tr>\n",
       "      <th>6</th>\n",
       "      <td>male</td>\n",
       "      <td>none</td>\n",
       "      <td>30</td>\n",
       "    </tr>\n",
       "    <tr>\n",
       "      <th>7</th>\n",
       "      <td>female</td>\n",
       "      <td>none</td>\n",
       "      <td>12</td>\n",
       "    </tr>\n",
       "    <tr>\n",
       "      <th>8</th>\n",
       "      <td>male</td>\n",
       "      <td>none</td>\n",
       "      <td>18</td>\n",
       "    </tr>\n",
       "    <tr>\n",
       "      <th>9</th>\n",
       "      <td>male</td>\n",
       "      <td>none</td>\n",
       "      <td>24</td>\n",
       "    </tr>\n",
       "    <tr>\n",
       "      <th>10</th>\n",
       "      <td>male</td>\n",
       "      <td>completed</td>\n",
       "      <td>44</td>\n",
       "    </tr>\n",
       "    <tr>\n",
       "      <th>11</th>\n",
       "      <td>male</td>\n",
       "      <td>none</td>\n",
       "      <td>23</td>\n",
       "    </tr>\n",
       "    <tr>\n",
       "      <th>12</th>\n",
       "      <td>male</td>\n",
       "      <td>completed</td>\n",
       "      <td>43</td>\n",
       "    </tr>\n",
       "    <tr>\n",
       "      <th>13</th>\n",
       "      <td>male</td>\n",
       "      <td>none</td>\n",
       "      <td>28</td>\n",
       "    </tr>\n",
       "    <tr>\n",
       "      <th>14</th>\n",
       "      <td>female</td>\n",
       "      <td>none</td>\n",
       "      <td>41</td>\n",
       "    </tr>\n",
       "    <tr>\n",
       "      <th>15</th>\n",
       "      <td>female</td>\n",
       "      <td>none</td>\n",
       "      <td>13</td>\n",
       "    </tr>\n",
       "    <tr>\n",
       "      <th>16</th>\n",
       "      <td>female</td>\n",
       "      <td>completed</td>\n",
       "      <td>48</td>\n",
       "    </tr>\n",
       "    <tr>\n",
       "      <th>17</th>\n",
       "      <td>female</td>\n",
       "      <td>none</td>\n",
       "      <td>45</td>\n",
       "    </tr>\n",
       "    <tr>\n",
       "      <th>18</th>\n",
       "      <td>male</td>\n",
       "      <td>none</td>\n",
       "      <td>47</td>\n",
       "    </tr>\n",
       "    <tr>\n",
       "      <th>19</th>\n",
       "      <td>male</td>\n",
       "      <td>none</td>\n",
       "      <td>36</td>\n",
       "    </tr>\n",
       "    <tr>\n",
       "      <th>20</th>\n",
       "      <td>male</td>\n",
       "      <td>none</td>\n",
       "      <td>14</td>\n",
       "    </tr>\n",
       "    <tr>\n",
       "      <th>21</th>\n",
       "      <td>male</td>\n",
       "      <td>completed</td>\n",
       "      <td>44</td>\n",
       "    </tr>\n",
       "    <tr>\n",
       "      <th>22</th>\n",
       "      <td>female</td>\n",
       "      <td>none</td>\n",
       "      <td>41</td>\n",
       "    </tr>\n",
       "    <tr>\n",
       "      <th>23</th>\n",
       "      <td>female</td>\n",
       "      <td>none</td>\n",
       "      <td>27</td>\n",
       "    </tr>\n",
       "    <tr>\n",
       "      <th>24</th>\n",
       "      <td>female</td>\n",
       "      <td>none</td>\n",
       "      <td>27</td>\n",
       "    </tr>\n",
       "    <tr>\n",
       "      <th>25</th>\n",
       "      <td>female</td>\n",
       "      <td>none</td>\n",
       "      <td>38</td>\n",
       "    </tr>\n",
       "    <tr>\n",
       "      <th>26</th>\n",
       "      <td>female</td>\n",
       "      <td>completed</td>\n",
       "      <td>50</td>\n",
       "    </tr>\n",
       "    <tr>\n",
       "      <th>27</th>\n",
       "      <td>female</td>\n",
       "      <td>completed</td>\n",
       "      <td>43</td>\n",
       "    </tr>\n",
       "  </tbody>\n",
       "</table>\n",
       "</div>"
      ],
      "text/plain": [
       "    Gender Test preparation  Total Marks\n",
       "0     male             none           14\n",
       "1   female             none           28\n",
       "2   female             none           18\n",
       "3   female             none           48\n",
       "4   female             none           21\n",
       "5   female        completed           40\n",
       "6     male             none           30\n",
       "7   female             none           12\n",
       "8     male             none           18\n",
       "9     male             none           24\n",
       "10    male        completed           44\n",
       "11    male             none           23\n",
       "12    male        completed           43\n",
       "13    male             none           28\n",
       "14  female             none           41\n",
       "15  female             none           13\n",
       "16  female        completed           48\n",
       "17  female             none           45\n",
       "18    male             none           47\n",
       "19    male             none           36\n",
       "20    male             none           14\n",
       "21    male        completed           44\n",
       "22  female             none           41\n",
       "23  female             none           27\n",
       "24  female             none           27\n",
       "25  female             none           38\n",
       "26  female        completed           50\n",
       "27  female        completed           43"
      ]
     },
     "execution_count": 80,
     "metadata": {},
     "output_type": "execute_result"
    }
   ],
   "source": [
    "df"
   ]
  },
  {
   "cell_type": "code",
   "execution_count": 81,
   "id": "f58e9764",
   "metadata": {},
   "outputs": [],
   "source": [
    "#descriptive analytics"
   ]
  },
  {
   "cell_type": "code",
   "execution_count": 82,
   "id": "deddf84a",
   "metadata": {},
   "outputs": [
    {
     "name": "stdout",
     "output_type": "stream",
     "text": [
      "<class 'pandas.core.frame.DataFrame'>\n",
      "RangeIndex: 28 entries, 0 to 27\n",
      "Data columns (total 3 columns):\n",
      " #   Column            Non-Null Count  Dtype \n",
      "---  ------            --------------  ----- \n",
      " 0   Gender            28 non-null     object\n",
      " 1   Test preparation  28 non-null     object\n",
      " 2   Total Marks       28 non-null     int64 \n",
      "dtypes: int64(1), object(2)\n",
      "memory usage: 800.0+ bytes\n"
     ]
    }
   ],
   "source": [
    "df.info()"
   ]
  },
  {
   "cell_type": "code",
   "execution_count": 83,
   "id": "aa2f280f",
   "metadata": {},
   "outputs": [],
   "source": [
    "#check null values"
   ]
  },
  {
   "cell_type": "code",
   "execution_count": 84,
   "id": "6c5dd0de",
   "metadata": {},
   "outputs": [
    {
     "data": {
      "text/plain": [
       "Gender              0\n",
       "Test preparation    0\n",
       "Total Marks         0\n",
       "dtype: int64"
      ]
     },
     "execution_count": 84,
     "metadata": {},
     "output_type": "execute_result"
    }
   ],
   "source": [
    "df.isnull().sum()"
   ]
  },
  {
   "cell_type": "code",
   "execution_count": 85,
   "id": "29bdcfa4",
   "metadata": {},
   "outputs": [],
   "source": [
    "#total according to gender"
   ]
  },
  {
   "cell_type": "code",
   "execution_count": 86,
   "id": "fb22d6ce",
   "metadata": {},
   "outputs": [
    {
     "data": {
      "text/plain": [
       "<AxesSubplot:xlabel='Gender', ylabel='count'>"
      ]
     },
     "execution_count": 86,
     "metadata": {},
     "output_type": "execute_result"
    },
    {
     "data": {
      "image/png": "[encoded data removed]",
      "text/plain": [
       "<Figure size 432x288 with 1 Axes>"
      ]
     },
     "metadata": {
      "needs_background": "light"
     },
     "output_type": "display_data"
    }
   ],
   "source": [
    "sns.countplot(data=df,x='Gender',color='blue')"
   ]
  },
  {
   "cell_type": "code",
   "execution_count": 87,
   "id": "55548d5b",
   "metadata": {},
   "outputs": [],
   "source": [
    "#data according to test preparation"
   ]
  },
  {
   "cell_type": "code",
   "execution_count": 88,
   "id": "e36fab44",
   "metadata": {},
   "outputs": [
    {
     "data": {
      "text/plain": [
       "<AxesSubplot:xlabel='Test preparation', ylabel='count'>"
      ]
     },
     "execution_count": 88,
     "metadata": {},
     "output_type": "execute_result"
    },
    {
     "data": {
      "image/png": "[encoded data removed]",
      "text/plain": [
       "<Figure size 432x288 with 1 Axes>"
      ]
     },
     "metadata": {
      "needs_background": "light"
     },
     "output_type": "display_data"
    }
   ],
   "source": [
    "sns.countplot(data=df,x='Test preparation',color='blue')"
   ]
  },
  {
   "cell_type": "code",
   "execution_count": 89,
   "id": "c074df56",
   "metadata": {},
   "outputs": [],
   "source": [
    "df1=df[['Gender','Total Marks']].groupby('Gender')"
   ]
  },
  {
   "cell_type": "code",
   "execution_count": 90,
   "id": "73f44907",
   "metadata": {},
   "outputs": [
    {
     "data": {
      "text/html": [
       "<div>\n",
       "<style scoped>\n",
       "    .dataframe tbody tr th:only-of-type {\n",
       "        vertical-align: middle;\n",
       "    }\n",
       "\n",
       "    .dataframe tbody tr th {\n",
       "        vertical-align: top;\n",
       "    }\n",
       "\n",
       "    .dataframe thead tr th {\n",
       "        text-align: left;\n",
       "    }\n",
       "\n",
       "    .dataframe thead tr:last-of-type th {\n",
       "        text-align: right;\n",
       "    }\n",
       "</style>\n",
       "<table border=\"1\" class=\"dataframe\">\n",
       "  <thead>\n",
       "    <tr>\n",
       "      <th></th>\n",
       "      <th colspan=\"8\" halign=\"left\">Total Marks</th>\n",
       "    </tr>\n",
       "    <tr>\n",
       "      <th></th>\n",
       "      <th>count</th>\n",
       "      <th>mean</th>\n",
       "      <th>std</th>\n",
       "      <th>min</th>\n",
       "      <th>25%</th>\n",
       "      <th>50%</th>\n",
       "      <th>75%</th>\n",
       "      <th>max</th>\n",
       "    </tr>\n",
       "    <tr>\n",
       "      <th>Gender</th>\n",
       "      <th></th>\n",
       "      <th></th>\n",
       "      <th></th>\n",
       "      <th></th>\n",
       "      <th></th>\n",
       "      <th></th>\n",
       "      <th></th>\n",
       "      <th></th>\n",
       "    </tr>\n",
       "  </thead>\n",
       "  <tbody>\n",
       "    <tr>\n",
       "      <th>female</th>\n",
       "      <td>16.0</td>\n",
       "      <td>33.750000</td>\n",
       "      <td>12.865976</td>\n",
       "      <td>12.0</td>\n",
       "      <td>25.50</td>\n",
       "      <td>39.0</td>\n",
       "      <td>43.50</td>\n",
       "      <td>50.0</td>\n",
       "    </tr>\n",
       "    <tr>\n",
       "      <th>male</th>\n",
       "      <td>12.0</td>\n",
       "      <td>30.416667</td>\n",
       "      <td>12.168950</td>\n",
       "      <td>14.0</td>\n",
       "      <td>21.75</td>\n",
       "      <td>29.0</td>\n",
       "      <td>43.25</td>\n",
       "      <td>47.0</td>\n",
       "    </tr>\n",
       "  </tbody>\n",
       "</table>\n",
       "</div>"
      ],
      "text/plain": [
       "       Total Marks                                                      \n",
       "             count       mean        std   min    25%   50%    75%   max\n",
       "Gender                                                                  \n",
       "female        16.0  33.750000  12.865976  12.0  25.50  39.0  43.50  50.0\n",
       "male          12.0  30.416667  12.168950  14.0  21.75  29.0  43.25  47.0"
      ]
     },
     "execution_count": 90,
     "metadata": {},
     "output_type": "execute_result"
    }
   ],
   "source": [
    "df1.describe()"
   ]
  },
  {
   "cell_type": "code",
   "execution_count": 91,
   "id": "2ac2a7f7",
   "metadata": {},
   "outputs": [
    {
     "data": {
      "text/plain": [
       "<AxesSubplot:xlabel='Gender', ylabel='count'>"
      ]
     },
     "execution_count": 91,
     "metadata": {},
     "output_type": "execute_result"
    },
    {
     "data": {
      "image/png": "[encoded data removed]",
      "text/plain": [
       "<Figure size 432x288 with 1 Axes>"
      ]
     },
     "metadata": {
      "needs_background": "light"
     },
     "output_type": "display_data"
    }
   ],
   "source": [
    "sns.countplot(data=df,x='Gender',hue='Test preparation')"
   ]
  },
  {
   "cell_type": "markdown",
   "id": "a90a16fb",
   "metadata": {},
   "source": [
    "# Check whether male and female score same marks"
   ]
  },
  {
   "cell_type": "code",
   "execution_count": 92,
   "id": "7b502a26",
   "metadata": {},
   "outputs": [],
   "source": [
    "#h0:male and female didnt score same marks\n",
    "#h1:male and female score same marks"
   ]
  },
  {
   "cell_type": "code",
   "execution_count": 93,
   "id": "1e154716",
   "metadata": {},
   "outputs": [],
   "source": [
    "df_male=df[df['Gender']=='male']['Total Marks']\n"
   ]
  },
  {
   "cell_type": "code",
   "execution_count": 94,
   "id": "f84f6e9d",
   "metadata": {},
   "outputs": [],
   "source": [
    "df_female=df[df['Gender']=='female']['Total Marks']"
   ]
  },
  {
   "cell_type": "code",
   "execution_count": 95,
   "id": "5d84fc8f",
   "metadata": {},
   "outputs": [],
   "source": [
    "#since we have n<30 we conduct a t test"
   ]
  },
  {
   "cell_type": "code",
   "execution_count": 96,
   "id": "fa38875a",
   "metadata": {},
   "outputs": [],
   "source": [
    "from scipy.stats import ttest_ind"
   ]
  },
  {
   "cell_type": "code",
   "execution_count": 97,
   "id": "569faca8",
   "metadata": {},
   "outputs": [
    {
     "name": "stdout",
     "output_type": "stream",
     "text": [
      "P value 0.4937822317960763\n"
     ]
    }
   ],
   "source": [
    "t,p=ttest_ind(df_male,df_female)\n",
    "print(\"P value\",p)"
   ]
  },
  {
   "cell_type": "code",
   "execution_count": 98,
   "id": "c0e64d57",
   "metadata": {},
   "outputs": [],
   "source": [
    "alpha=0.05"
   ]
  },
  {
   "cell_type": "code",
   "execution_count": 99,
   "id": "3ce401cb",
   "metadata": {},
   "outputs": [
    {
     "name": "stdout",
     "output_type": "stream",
     "text": [
      "failed to reject h0\n"
     ]
    }
   ],
   "source": [
    "if p < alpha:\n",
    "   print(\"reject h0\")\n",
    "else:\n",
    " print(\"failed to reject h0\")"
   ]
  },
  {
   "cell_type": "markdown",
   "id": "f00b0544",
   "metadata": {},
   "source": [
    "# Test preparation helps student or not"
   ]
  },
  {
   "cell_type": "code",
   "execution_count": 100,
   "id": "94fbb544",
   "metadata": {},
   "outputs": [],
   "source": [
    "#Ho=test preparation didnt help the students\n",
    "#H1=test preparation helped the students"
   ]
  },
  {
   "cell_type": "code",
   "execution_count": 101,
   "id": "9724cd27",
   "metadata": {},
   "outputs": [],
   "source": [
    "df_none=df[df['Test preparation']=='none']['Total Marks']"
   ]
  },
  {
   "cell_type": "code",
   "execution_count": 102,
   "id": "7b466b87",
   "metadata": {},
   "outputs": [
    {
     "data": {
      "text/plain": [
       "0     14\n",
       "1     28\n",
       "2     18\n",
       "3     48\n",
       "4     21\n",
       "6     30\n",
       "7     12\n",
       "8     18\n",
       "9     24\n",
       "11    23\n",
       "13    28\n",
       "14    41\n",
       "15    13\n",
       "17    45\n",
       "18    47\n",
       "19    36\n",
       "20    14\n",
       "22    41\n",
       "23    27\n",
       "24    27\n",
       "25    38\n",
       "Name: Total Marks, dtype: int64"
      ]
     },
     "execution_count": 102,
     "metadata": {},
     "output_type": "execute_result"
    }
   ],
   "source": [
    "df_none"
   ]
  },
  {
   "cell_type": "code",
   "execution_count": 103,
   "id": "dac34f69",
   "metadata": {},
   "outputs": [
    {
     "data": {
      "text/plain": [
       "5     40\n",
       "10    44\n",
       "12    43\n",
       "16    48\n",
       "21    44\n",
       "26    50\n",
       "27    43\n",
       "Name: Total Marks, dtype: int64"
      ]
     },
     "execution_count": 103,
     "metadata": {},
     "output_type": "execute_result"
    }
   ],
   "source": [
    "df_completed=df[df['Test preparation']=='completed']['Total Marks']\n",
    "df_completed"
   ]
  },
  {
   "cell_type": "code",
   "execution_count": 104,
   "id": "3e6ff293",
   "metadata": {},
   "outputs": [],
   "source": [
    "t,p1= ttest_ind(df_none,df_completed)\n",
    "alpha =0.05"
   ]
  },
  {
   "cell_type": "code",
   "execution_count": 105,
   "id": "7845a4d9",
   "metadata": {},
   "outputs": [
    {
     "name": "stdout",
     "output_type": "stream",
     "text": [
      "Reject h0\n"
     ]
    }
   ],
   "source": [
    "if p1<alpha:\n",
    "   print(\"Reject h0\")\n",
    "else:\n",
    "   print(\"Failed to reject null h0\")"
   ]
  },
  {
   "cell_type": "code",
   "execution_count": 106,
   "id": "832fc8d9",
   "metadata": {},
   "outputs": [],
   "source": [
    "#Test preparation helped the students"
   ]
  },
  {
   "cell_type": "code",
   "execution_count": null,
   "id": "ce144de5",
   "metadata": {},
   "outputs": [],
   "source": []
  }
 ],
 "metadata": {
  "kernelspec": {
   "display_name": "Python 3 (ipykernel)",
   "language": "python",
   "name": "python3"
  },
  "language_info": {
   "codemirror_mode": {
    "name": "ipython",
    "version": 3
   },
   "file_extension": ".py",
   "mimetype": "text/x-python",
   "name": "python",
   "nbconvert_exporter": "python",
   "pygments_lexer": "ipython3",
   "version": "3.9.12"
  }
 },
 "nbformat": 4,
 "nbformat_minor": 5
}
